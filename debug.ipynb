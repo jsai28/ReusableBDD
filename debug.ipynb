{
 "cells": [
  {
   "cell_type": "code",
   "execution_count": 6,
   "id": "108d10bc-0419-4824-be17-033d0048868c",
   "metadata": {},
   "outputs": [],
   "source": [
    "import json\n",
    "from analysis_funcs import *"
   ]
  },
  {
   "cell_type": "code",
   "execution_count": 2,
   "id": "c3f803ca-8cb5-4fc7-a6fc-5ac0929a99f6",
   "metadata": {},
   "outputs": [],
   "source": [
    "jekyll_data_file = './data/jekyll/jekyll_parsed_steps.json'"
   ]
  },
  {
   "cell_type": "code",
   "execution_count": 3,
   "id": "f5575ee3-fe3f-4f28-baba-7d0bf0c020e7",
   "metadata": {},
   "outputs": [],
   "source": [
    "with open(jekyll_data_file, 'r') as f:\n",
    "    jekyll_data = json.load(f)"
   ]
  },
  {
   "cell_type": "code",
   "execution_count": 4,
   "id": "50a5d649-ab76-4367-ab75-7cd80713e180",
   "metadata": {},
   "outputs": [],
   "source": [
    "similar_tests = []\n",
    "\n",
    "for data in jekyll_data:\n",
    "    if data[\"feature_file\"] == \"cache.feature\":\n",
    "        similar_tests.append(data)"
   ]
  },
  {
   "cell_type": "code",
   "execution_count": 5,
   "id": "d20c0bc5-fb19-47c4-9ab4-24da3f2f9765",
   "metadata": {},
   "outputs": [
    {
     "data": {
      "text/plain": [
       "[{'feature_file': 'cache.feature',\n",
       "  'test_num': 1,\n",
       "  'test_case': 'Default Cache directory',\n",
       "  'steps': [{'step_num': 1,\n",
       "    'step_name': 'I have an \"index.md\" page that contains \"{{ site.title }}\"',\n",
       "    'step_definition': 'do\\nFile.write(file, <<-HEREDOC)\\n---\\n#{key || \"layout\"}: #{value || \"none\"}\\n---\\n\\n#{text}\\nHEREDOC\\nend',\n",
       "    'step_definition_file': 'features/step_definitions.rb'},\n",
       "   {'step_num': 2,\n",
       "    'step_name': 'I have a configuration file with \"title\" set to \"Hello World\"',\n",
       "    'step_definition': 'do\\nconfig = if source_dir.join(\"_config.yml\").exist?\\n  SafeYAML.load_file(source_dir.join(\"_config.yml\"))\\nelse\\n  {}\\nend\\nconfig.[]=(key, SafeYAML.load(value))\\nif key == \"timezone\"\\n  Jekyll.set_timezone(value)\\nend\\nFile.write(\"_config.yml\", YAML.dump(config))\\nend',\n",
       "    'step_definition_file': 'features/step_definitions.rb'},\n",
       "   {'step_num': 3,\n",
       "    'step_name': 'I run jekyll build',\n",
       "    'step_definition': 'do\\nrun_jekyll(args)\\nif args.include?(\"--verbose\") || ENV.[](\"DEBUG\")\\n  warn(<<-HEREDOC)\\n\\n#{jekyll_run_output}\\n  HEREDOC\\nend\\nend',\n",
       "    'step_definition_file': 'features/step_definitions.rb'},\n",
       "   {'step_num': 4,\n",
       "    'step_name': 'I should get a zero exit status',\n",
       "    'step_definition': 'do\\nstep(\"I should see \\\\\"EXIT STATUS: 0\\\\\" in the build output\")\\nend',\n",
       "    'step_definition_file': 'features/step_definitions.rb'},\n",
       "   {'step_num': 5,\n",
       "    'step_name': 'the .jekyll-cache directory should exist',\n",
       "    'step_definition': 'do\\nif negative.nil?\\n  expect(Pathname.new(dir)).to(exist)\\nelse\\n  expect(Pathname.new(dir)).to_not(exist)\\nend\\nend',\n",
       "    'step_definition_file': 'features/step_definitions.rb'},\n",
       "   {'step_num': 6,\n",
       "    'step_name': 'the .jekyll-cache/Jekyll/Cache/Jekyll--Cache directory should exist',\n",
       "    'step_definition': 'do\\nif negative.nil?\\n  expect(Pathname.new(dir)).to(exist)\\nelse\\n  expect(Pathname.new(dir)).to_not(exist)\\nend\\nend',\n",
       "    'step_definition_file': 'features/step_definitions.rb'},\n",
       "   {'step_num': 7,\n",
       "    'step_name': 'the _site directory should exist',\n",
       "    'step_definition': 'do\\nif negative.nil?\\n  expect(Pathname.new(dir)).to(exist)\\nelse\\n  expect(Pathname.new(dir)).to_not(exist)\\nend\\nend',\n",
       "    'step_definition_file': 'features/step_definitions.rb'},\n",
       "   {'step_num': 8,\n",
       "    'step_name': 'I should see \"<p>Hello World</p>\" in \"_site/index.html\"',\n",
       "    'step_definition': 'do\\nstep(\"the \\\\\"#{file}\\\\\" file should exist\")\\nregexp = Regexp.new(text, Regexp::MULTILINE)\\nif negative.nil? || negative.empty?\\n  expect(file_contents(file)).to(match(regexp))\\nelse\\n  expect(file_contents(file)).not_to(match(regexp))\\nend\\nend',\n",
       "    'step_definition_file': 'features/step_definitions.rb'}]},\n",
       " {'feature_file': 'cache.feature',\n",
       "  'test_num': 2,\n",
       "  'test_case': 'Custom Cache directory',\n",
       "  'steps': [{'step_num': 1,\n",
       "    'step_name': 'I have an \"index.md\" page that contains \"{{ site.title }}\"',\n",
       "    'step_definition': 'do\\nFile.write(file, <<-HEREDOC)\\n---\\n#{key || \"layout\"}: #{value || \"none\"}\\n---\\n\\n#{text}\\nHEREDOC\\nend',\n",
       "    'step_definition_file': 'features/step_definitions.rb'},\n",
       "   {'step_num': 2,\n",
       "    'step_name': 'I have a configuration file with',\n",
       "    'step_definition': 'do\\ntable.hashes.each { |row,|\\n  step(\"I have a configuration file with \\\\\"#{row.[](\"key\")}\\\\\" set to \\\\\"#{row.[](\"value\")}\\\\\"\")\\n}\\nend',\n",
       "    'step_definition_file': 'features/step_definitions.rb'},\n",
       "   {'step_num': 3,\n",
       "    'step_name': 'I run jekyll build',\n",
       "    'step_definition': 'do\\nrun_jekyll(args)\\nif args.include?(\"--verbose\") || ENV.[](\"DEBUG\")\\n  warn(<<-HEREDOC)\\n\\n#{jekyll_run_output}\\n  HEREDOC\\nend\\nend',\n",
       "    'step_definition_file': 'features/step_definitions.rb'},\n",
       "   {'step_num': 4,\n",
       "    'step_name': 'I should get a zero exit status',\n",
       "    'step_definition': 'do\\nstep(\"I should see \\\\\"EXIT STATUS: 0\\\\\" in the build output\")\\nend',\n",
       "    'step_definition_file': 'features/step_definitions.rb'},\n",
       "   {'step_num': 5,\n",
       "    'step_name': 'the .foo-cache directory should exist',\n",
       "    'step_definition': 'do\\nif negative.nil?\\n  expect(Pathname.new(dir)).to(exist)\\nelse\\n  expect(Pathname.new(dir)).to_not(exist)\\nend\\nend',\n",
       "    'step_definition_file': 'features/step_definitions.rb'},\n",
       "   {'step_num': 6,\n",
       "    'step_name': 'the .foo-cache/Jekyll/Cache/Jekyll--Cache directory should exist',\n",
       "    'step_definition': 'do\\nif negative.nil?\\n  expect(Pathname.new(dir)).to(exist)\\nelse\\n  expect(Pathname.new(dir)).to_not(exist)\\nend\\nend',\n",
       "    'step_definition_file': 'features/step_definitions.rb'},\n",
       "   {'step_num': 7,\n",
       "    'step_name': 'the .jekyll-cache directory should not exist',\n",
       "    'step_definition': 'do\\nif negative.nil?\\n  expect(Pathname.new(dir)).to(exist)\\nelse\\n  expect(Pathname.new(dir)).to_not(exist)\\nend\\nend',\n",
       "    'step_definition_file': 'features/step_definitions.rb'},\n",
       "   {'step_num': 8,\n",
       "    'step_name': 'the _site directory should exist',\n",
       "    'step_definition': 'do\\nif negative.nil?\\n  expect(Pathname.new(dir)).to(exist)\\nelse\\n  expect(Pathname.new(dir)).to_not(exist)\\nend\\nend',\n",
       "    'step_definition_file': 'features/step_definitions.rb'},\n",
       "   {'step_num': 9,\n",
       "    'step_name': 'I should see \"<p>Hello World</p>\" in \"_site/index.html\"',\n",
       "    'step_definition': 'do\\nstep(\"the \\\\\"#{file}\\\\\" file should exist\")\\nregexp = Regexp.new(text, Regexp::MULTILINE)\\nif negative.nil? || negative.empty?\\n  expect(file_contents(file)).to(match(regexp))\\nelse\\n  expect(file_contents(file)).not_to(match(regexp))\\nend\\nend',\n",
       "    'step_definition_file': 'features/step_definitions.rb'}]},\n",
       " {'feature_file': 'cache.feature',\n",
       "  'test_num': 3,\n",
       "  'test_case': 'Disk usage in safe mode',\n",
       "  'steps': [{'step_num': 1,\n",
       "    'step_name': 'I have an \"index.md\" page that contains \"{{ site.title }}\"',\n",
       "    'step_definition': 'do\\nFile.write(file, <<-HEREDOC)\\n---\\n#{key || \"layout\"}: #{value || \"none\"}\\n---\\n\\n#{text}\\nHEREDOC\\nend',\n",
       "    'step_definition_file': 'features/step_definitions.rb'},\n",
       "   {'step_num': 2,\n",
       "    'step_name': 'I have a configuration file with \"title\" set to \"Hello World\"',\n",
       "    'step_definition': 'do\\nconfig = if source_dir.join(\"_config.yml\").exist?\\n  SafeYAML.load_file(source_dir.join(\"_config.yml\"))\\nelse\\n  {}\\nend\\nconfig.[]=(key, SafeYAML.load(value))\\nif key == \"timezone\"\\n  Jekyll.set_timezone(value)\\nend\\nFile.write(\"_config.yml\", YAML.dump(config))\\nend',\n",
       "    'step_definition_file': 'features/step_definitions.rb'},\n",
       "   {'step_num': 3,\n",
       "    'step_name': 'I run jekyll build --safe',\n",
       "    'step_definition': 'do\\nrun_jekyll(args)\\nif args.include?(\"--verbose\") || ENV.[](\"DEBUG\")\\n  warn(<<-HEREDOC)\\n\\n#{jekyll_run_output}\\n  HEREDOC\\nend\\nend',\n",
       "    'step_definition_file': 'features/step_definitions.rb'},\n",
       "   {'step_num': 4,\n",
       "    'step_name': 'I should get a zero exit status',\n",
       "    'step_definition': 'do\\nstep(\"I should see \\\\\"EXIT STATUS: 0\\\\\" in the build output\")\\nend',\n",
       "    'step_definition_file': 'features/step_definitions.rb'},\n",
       "   {'step_num': 5,\n",
       "    'step_name': 'the .jekyll-cache directory should not exist',\n",
       "    'step_definition': 'do\\nif negative.nil?\\n  expect(Pathname.new(dir)).to(exist)\\nelse\\n  expect(Pathname.new(dir)).to_not(exist)\\nend\\nend',\n",
       "    'step_definition_file': 'features/step_definitions.rb'},\n",
       "   {'step_num': 6,\n",
       "    'step_name': 'the _site directory should exist',\n",
       "    'step_definition': 'do\\nif negative.nil?\\n  expect(Pathname.new(dir)).to(exist)\\nelse\\n  expect(Pathname.new(dir)).to_not(exist)\\nend\\nend',\n",
       "    'step_definition_file': 'features/step_definitions.rb'},\n",
       "   {'step_num': 7,\n",
       "    'step_name': 'I should see \"<p>Hello World</p>\" in \"_site/index.html\"',\n",
       "    'step_definition': 'do\\nstep(\"the \\\\\"#{file}\\\\\" file should exist\")\\nregexp = Regexp.new(text, Regexp::MULTILINE)\\nif negative.nil? || negative.empty?\\n  expect(file_contents(file)).to(match(regexp))\\nelse\\n  expect(file_contents(file)).not_to(match(regexp))\\nend\\nend',\n",
       "    'step_definition_file': 'features/step_definitions.rb'}]},\n",
       " {'feature_file': 'cache.feature',\n",
       "  'test_num': 4,\n",
       "  'test_case': 'Disabling disk usage in non-safe mode',\n",
       "  'steps': [{'step_num': 1,\n",
       "    'step_name': 'I have an \"index.md\" page that contains \"{{ site.title }}\"',\n",
       "    'step_definition': 'do\\nFile.write(file, <<-HEREDOC)\\n---\\n#{key || \"layout\"}: #{value || \"none\"}\\n---\\n\\n#{text}\\nHEREDOC\\nend',\n",
       "    'step_definition_file': 'features/step_definitions.rb'},\n",
       "   {'step_num': 2,\n",
       "    'step_name': 'I have a configuration file with \"title\" set to \"Hello World\"',\n",
       "    'step_definition': 'do\\nconfig = if source_dir.join(\"_config.yml\").exist?\\n  SafeYAML.load_file(source_dir.join(\"_config.yml\"))\\nelse\\n  {}\\nend\\nconfig.[]=(key, SafeYAML.load(value))\\nif key == \"timezone\"\\n  Jekyll.set_timezone(value)\\nend\\nFile.write(\"_config.yml\", YAML.dump(config))\\nend',\n",
       "    'step_definition_file': 'features/step_definitions.rb'},\n",
       "   {'step_num': 3,\n",
       "    'step_name': 'I run jekyll build --disable-disk-cache',\n",
       "    'step_definition': 'do\\nrun_jekyll(args)\\nif args.include?(\"--verbose\") || ENV.[](\"DEBUG\")\\n  warn(<<-HEREDOC)\\n\\n#{jekyll_run_output}\\n  HEREDOC\\nend\\nend',\n",
       "    'step_definition_file': 'features/step_definitions.rb'},\n",
       "   {'step_num': 4,\n",
       "    'step_name': 'I should get a zero exit status',\n",
       "    'step_definition': 'do\\nstep(\"I should see \\\\\"EXIT STATUS: 0\\\\\" in the build output\")\\nend',\n",
       "    'step_definition_file': 'features/step_definitions.rb'},\n",
       "   {'step_num': 5,\n",
       "    'step_name': 'the _site directory should exist',\n",
       "    'step_definition': 'do\\nif negative.nil?\\n  expect(Pathname.new(dir)).to(exist)\\nelse\\n  expect(Pathname.new(dir)).to_not(exist)\\nend\\nend',\n",
       "    'step_definition_file': 'features/step_definitions.rb'},\n",
       "   {'step_num': 6,\n",
       "    'step_name': 'I should see \"<p>Hello World</p>\" in \"_site/index.html\"',\n",
       "    'step_definition': 'do\\nstep(\"the \\\\\"#{file}\\\\\" file should exist\")\\nregexp = Regexp.new(text, Regexp::MULTILINE)\\nif negative.nil? || negative.empty?\\n  expect(file_contents(file)).to(match(regexp))\\nelse\\n  expect(file_contents(file)).not_to(match(regexp))\\nend\\nend',\n",
       "    'step_definition_file': 'features/step_definitions.rb'},\n",
       "   {'step_num': 7,\n",
       "    'step_name': 'the .jekyll-cache directory should not exist',\n",
       "    'step_definition': 'do\\nif negative.nil?\\n  expect(Pathname.new(dir)).to(exist)\\nelse\\n  expect(Pathname.new(dir)).to_not(exist)\\nend\\nend',\n",
       "    'step_definition_file': 'features/step_definitions.rb'}]}]"
      ]
     },
     "execution_count": 5,
     "metadata": {},
     "output_type": "execute_result"
    }
   ],
   "source": [
    "similar_tests"
   ]
  },
  {
   "cell_type": "code",
   "execution_count": 7,
   "id": "4426593b-9ca3-417b-b2ef-64b6682749a1",
   "metadata": {},
   "outputs": [],
   "source": [
    "test_strings = stringify_test_cases(similar_tests, \"step_name\")"
   ]
  },
  {
   "cell_type": "code",
   "execution_count": 8,
   "id": "e56d3c69-6c86-4f16-b356-759ca29f3968",
   "metadata": {},
   "outputs": [
    {
     "data": {
      "text/plain": [
       "['1: I have an \"index.md\" page that contains \"{{ site.title }}\"\\n2: I have a configuration file with \"title\" set to \"Hello World\"\\n3: I run jekyll build\\n4: I should get a zero exit status\\n5: the .jekyll-cache directory should exist\\n6: the .jekyll-cache/Jekyll/Cache/Jekyll--Cache directory should exist\\n7: the _site directory should exist\\n8: I should see \"<p>Hello World</p>\" in \"_site/index.html\"\\n',\n",
       " '1: I have an \"index.md\" page that contains \"{{ site.title }}\"\\n2: I have a configuration file with\\n3: I run jekyll build\\n4: I should get a zero exit status\\n5: the .foo-cache directory should exist\\n6: the .foo-cache/Jekyll/Cache/Jekyll--Cache directory should exist\\n7: the .jekyll-cache directory should not exist\\n8: the _site directory should exist\\n9: I should see \"<p>Hello World</p>\" in \"_site/index.html\"\\n',\n",
       " '1: I have an \"index.md\" page that contains \"{{ site.title }}\"\\n2: I have a configuration file with \"title\" set to \"Hello World\"\\n3: I run jekyll build --safe\\n4: I should get a zero exit status\\n5: the .jekyll-cache directory should not exist\\n6: the _site directory should exist\\n7: I should see \"<p>Hello World</p>\" in \"_site/index.html\"\\n',\n",
       " '1: I have an \"index.md\" page that contains \"{{ site.title }}\"\\n2: I have a configuration file with \"title\" set to \"Hello World\"\\n3: I run jekyll build --disable-disk-cache\\n4: I should get a zero exit status\\n5: the _site directory should exist\\n6: I should see \"<p>Hello World</p>\" in \"_site/index.html\"\\n7: the .jekyll-cache directory should not exist\\n']"
      ]
     },
     "execution_count": 8,
     "metadata": {},
     "output_type": "execute_result"
    }
   ],
   "source": [
    "test_strings"
   ]
  },
  {
   "cell_type": "code",
   "execution_count": 9,
   "id": "bb0cb0a0-5c8a-4f56-b839-d2e8e7e3d0de",
   "metadata": {},
   "outputs": [],
   "source": [
    "ncd_matrix = calculate_pairwise_ncd(test_strings)"
   ]
  },
  {
   "cell_type": "code",
   "execution_count": 10,
   "id": "1a3f7897-7b08-49af-927f-f083125968c7",
   "metadata": {},
   "outputs": [
    {
     "data": {
      "text/plain": [
       "array([[0.        , 0.0673913 , 0.08277405, 0.08810573],\n",
       "       [0.0673913 , 0.        , 0.11358575, 0.10964912],\n",
       "       [0.08277405, 0.11358575, 0.        , 0.07223476],\n",
       "       [0.08810573, 0.10964912, 0.07223476, 0.        ]])"
      ]
     },
     "execution_count": 10,
     "metadata": {},
     "output_type": "execute_result"
    }
   ],
   "source": [
    "ncd_matrix"
   ]
  },
  {
   "cell_type": "code",
   "execution_count": 11,
   "id": "9b3d9922-1b04-4f81-b830-ae9e268b028c",
   "metadata": {},
   "outputs": [],
   "source": [
    "cosine_matrix = calculate_cosine_similarity(test_strings)"
   ]
  },
  {
   "cell_type": "code",
   "execution_count": 12,
   "id": "67525369-d1c6-47be-b57d-47c324330ee7",
   "metadata": {},
   "outputs": [
    {
     "data": {
      "text/plain": [
       "array([[1.        , 0.91591687, 0.90542215, 0.90707567],\n",
       "       [0.91591687, 1.        , 0.81838103, 0.82737403],\n",
       "       [0.90542215, 0.81838103, 1.        , 0.93123048],\n",
       "       [0.90707567, 0.82737403, 0.93123048, 1.        ]])"
      ]
     },
     "execution_count": 12,
     "metadata": {},
     "output_type": "execute_result"
    }
   ],
   "source": [
    "cosine_matrix"
   ]
  },
  {
   "cell_type": "code",
   "execution_count": 13,
   "id": "5a8d472c-1d6f-48f9-b6b9-cd0e1ef14b8d",
   "metadata": {},
   "outputs": [],
   "source": [
    "euclidean_matrix = calculate_euclidean_distance(test_strings)"
   ]
  },
  {
   "cell_type": "code",
   "execution_count": 14,
   "id": "57a37f9a-bf40-468a-aee8-ee7b23a2f0ef",
   "metadata": {},
   "outputs": [
    {
     "data": {
      "text/plain": [
       "array([[0.        , 0.41008079, 0.43492035, 0.43110169],\n",
       "       [0.41008079, 0.        , 0.60269224, 0.58758143],\n",
       "       [0.43492035, 0.60269224, 0.        , 0.37086256],\n",
       "       [0.43110169, 0.58758143, 0.37086256, 0.        ]])"
      ]
     },
     "execution_count": 14,
     "metadata": {},
     "output_type": "execute_result"
    }
   ],
   "source": [
    "euclidean_matrix"
   ]
  },
  {
   "cell_type": "code",
   "execution_count": 15,
   "id": "e3d8a8a3-c916-432a-9af3-91026c46af8c",
   "metadata": {},
   "outputs": [],
   "source": [
    "manhattan_matrix = calculate_manhattan_distance(test_strings)"
   ]
  },
  {
   "cell_type": "code",
   "execution_count": 16,
   "id": "d9ce9c20-e759-4e57-883d-407fb9f25e79",
   "metadata": {},
   "outputs": [
    {
     "data": {
      "text/plain": [
       "array([[0.        , 1.43233841, 1.69855468, 1.6754928 ],\n",
       "       [1.43233841, 0.        , 2.67442886, 2.67735303],\n",
       "       [1.69855468, 2.67442886, 0.        , 0.90542937],\n",
       "       [1.6754928 , 2.67735303, 0.90542937, 0.        ]])"
      ]
     },
     "execution_count": 16,
     "metadata": {},
     "output_type": "execute_result"
    }
   ],
   "source": [
    "manhattan_matrix"
   ]
  },
  {
   "cell_type": "code",
   "execution_count": null,
   "id": "cc8ed0b8-541d-4abf-884b-afa605e0381e",
   "metadata": {},
   "outputs": [],
   "source": []
  }
 ],
 "metadata": {
  "kernelspec": {
   "display_name": "Python 3 (ipykernel)",
   "language": "python",
   "name": "python3"
  },
  "language_info": {
   "codemirror_mode": {
    "name": "ipython",
    "version": 3
   },
   "file_extension": ".py",
   "mimetype": "text/x-python",
   "name": "python",
   "nbconvert_exporter": "python",
   "pygments_lexer": "ipython3",
   "version": "3.12.2"
  }
 },
 "nbformat": 4,
 "nbformat_minor": 5
}
